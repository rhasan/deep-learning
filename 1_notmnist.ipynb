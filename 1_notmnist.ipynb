{
 "cells": [
  {
   "cell_type": "markdown",
   "metadata": {},
   "source": [
    "Deep Learning\n",
    "=============\n",
    "\n",
    "Assignment 1\n",
    "------------\n",
    "\n",
    "The objective of this assignment is to learn about simple data curation practices, and familiarize you with some of the data we'll be reusing later.\n",
    "\n",
    "This notebook uses the [notMNIST](http://yaroslavvb.blogspot.com/2011/09/notmnist-dataset.html) dataset to be used with python experiments. This dataset is designed to look like the classic [MNIST](http://yann.lecun.com/exdb/mnist/) dataset, while looking a little more like real data: it's a harder task, and the data is a lot less 'clean' than MNIST."
   ]
  },
  {
   "cell_type": "code",
   "execution_count": 1,
   "metadata": {
    "collapsed": true
   },
   "outputs": [],
   "source": [
    "# These are all the modules we'll be using later. Make sure you can import them\n",
    "# before proceeding further.\n",
    "from __future__ import print_function\n",
    "import matplotlib.pyplot as plt\n",
    "import numpy as np\n",
    "import os\n",
    "import sys\n",
    "import tarfile\n",
    "from IPython.display import display, Image\n",
    "from scipy import ndimage\n",
    "from sklearn.linear_model import LogisticRegression\n",
    "from six.moves.urllib.request import urlretrieve\n",
    "from six.moves import cPickle as pickle\n",
    "\n",
    "# Config the matplotlib backend as plotting inline in IPython\n",
    "%matplotlib inline"
   ]
  },
  {
   "cell_type": "markdown",
   "metadata": {},
   "source": [
    "First, we'll download the dataset to our local machine. The data consists of characters rendered in a variety of fonts on a 28x28 image. The labels are limited to 'A' through 'J' (10 classes). The training set has about 500k and the testset 19000 labelled examples. Given these sizes, it should be possible to train models quickly on any machine."
   ]
  },
  {
   "cell_type": "code",
   "execution_count": 2,
   "metadata": {
    "collapsed": false
   },
   "outputs": [
    {
     "name": "stdout",
     "output_type": "stream",
     "text": [
      "Attempting to download: notMNIST_large.tar.gz\n",
      "0%....5%....10%....15%....20%....25%....30%....35%....40%....45%....50%....55%....60%....65%....70%....75%....80%....85%....90%....95%....100%\n",
      "Download Complete!\n",
      "Found and verified ./notMNIST_large.tar.gz\n",
      "Attempting to download: notMNIST_small.tar.gz\n",
      "0%....5%....10%....15%....20%....25%....30%....35%....40%....45%....50%....55%....60%....65%....70%....75%....80%....85%....90%....95%....100%\n",
      "Download Complete!\n",
      "Found and verified ./notMNIST_small.tar.gz\n"
     ]
    }
   ],
   "source": [
    "url = 'http://commondatastorage.googleapis.com/books1000/'\n",
    "last_percent_reported = None\n",
    "data_root = '.' # Change me to store data elsewhere\n",
    "\n",
    "def download_progress_hook(count, blockSize, totalSize):\n",
    "\t\"\"\"A hook to report the progress of a download. This is mostly intended for users with\n",
    "\tslow internet connections. Reports every 5% change in download progress.\n",
    "\t\"\"\"\n",
    "\tglobal last_percent_reported\n",
    "\tpercent = int(count * blockSize * 100 / totalSize)\n",
    "\n",
    "\tif last_percent_reported != percent:\n",
    "\t\tif percent % 5 == 0:\n",
    "\t\t\tsys.stdout.write(\"%s%%\" % percent)\n",
    "\t\t\tsys.stdout.flush()\n",
    "\t\telse:\n",
    "\t\t\tsys.stdout.write(\".\")\n",
    "\t\t\tsys.stdout.flush()\n",
    "\t\t\t\n",
    "\t\tlast_percent_reported = percent\n",
    "\t\t\t\t\n",
    "def maybe_download(filename, expected_bytes, force=False):\n",
    "\t\"\"\"Download a file if not present, and make sure it's the right size.\"\"\"\n",
    "\tdest_filename = os.path.join(data_root, filename)\n",
    "\tif force or not os.path.exists(dest_filename):\n",
    "\t\tprint('Attempting to download:', filename) \n",
    "\t\tfilename, _ = urlretrieve(url + filename, dest_filename, reporthook=download_progress_hook)\n",
    "\t\tprint('\\nDownload Complete!')\n",
    "\tstatinfo = os.stat(dest_filename)\n",
    "\tif statinfo.st_size == expected_bytes:\n",
    "\t\tprint('Found and verified', dest_filename)\n",
    "\telse:\n",
    "\t\traise Exception(\n",
    "\t\t\t'Failed to verify ' + dest_filename + '. Can you get to it with a browser?')\n",
    "\treturn dest_filename\n",
    "\n",
    "train_filename = maybe_download('notMNIST_large.tar.gz', 247336696)\n",
    "test_filename = maybe_download('notMNIST_small.tar.gz', 8458043)"
   ]
  },
  {
   "cell_type": "markdown",
   "metadata": {},
   "source": [
    "Extract the dataset from the compressed .tar.gz file.\n",
    "This should give you a set of directories, labelled A through J."
   ]
  },
  {
   "cell_type": "code",
   "execution_count": 5,
   "metadata": {
    "collapsed": false
   },
   "outputs": [
    {
     "name": "stdout",
     "output_type": "stream",
     "text": [
      "Extracting data for ./notMNIST_large. This may take a while. Please wait.\n",
      "['./notMNIST_large/A', './notMNIST_large/B', './notMNIST_large/C', './notMNIST_large/D', './notMNIST_large/E', './notMNIST_large/F', './notMNIST_large/G', './notMNIST_large/H', './notMNIST_large/I', './notMNIST_large/J']\n",
      "Extracting data for ./notMNIST_small. This may take a while. Please wait.\n",
      "['./notMNIST_small/A', './notMNIST_small/B', './notMNIST_small/C', './notMNIST_small/D', './notMNIST_small/E', './notMNIST_small/F', './notMNIST_small/G', './notMNIST_small/H', './notMNIST_small/I', './notMNIST_small/J']\n"
     ]
    }
   ],
   "source": [
    "num_classes = 10\n",
    "np.random.seed(133)\n",
    "\n",
    "def maybe_extract(filename, force=False):\n",
    "\troot = os.path.splitext(os.path.splitext(filename)[0])[0]  # remove .tar.gz\n",
    "\tif os.path.isdir(root) and not force:\n",
    "\t\t# You may override by setting force=True.\n",
    "\t\tprint('%s already present - Skipping extraction of %s.' % (root, filename))\n",
    "\telse:\n",
    "\t\tprint('Extracting data for %s. This may take a while. Please wait.' % root)\n",
    "\t\ttar = tarfile.open(filename)\n",
    "\t\tsys.stdout.flush()\n",
    "\t\ttar.extractall(data_root)\n",
    "\t\ttar.close()\n",
    "\tdata_folders = [\n",
    "\t\tos.path.join(root, d) for d in sorted(os.listdir(root))\n",
    "\t\tif os.path.isdir(os.path.join(root, d))]\n",
    "\tif len(data_folders) != num_classes:\n",
    "\t\traise Exception(\n",
    "\t\t\t'Expected %d folders, one per class. Found %d instead.' % (\n",
    "\t\t\t\tnum_classes, len(data_folders)))\n",
    "\tprint(data_folders)\n",
    "\treturn data_folders\n",
    "\t\n",
    "train_folders = maybe_extract(train_filename)\n",
    "test_folders = maybe_extract(test_filename)"
   ]
  },
  {
   "cell_type": "markdown",
   "metadata": {},
   "source": [
    "---\n",
    "Problem 1\n",
    "---------\n",
    "\n",
    "Let's take a peek at some of the data to make sure it looks sensible. Each exemplar should be an image of a character A through J rendered in a different font. Display a sample of the images that we just downloaded. Hint: you can use the package IPython.display.\n",
    "\n",
    "---"
   ]
  },
  {
   "cell_type": "markdown",
   "metadata": {},
   "source": [
    "Now let's load the data in a more manageable format. Since, depending on your computer setup you might not be able to fit it all in memory, we'll load each class into a separate dataset, store them on disk and curate them independently. Later we'll merge them into a single dataset of manageable size.\n",
    "\n",
    "We'll convert the entire dataset into a 3D array (image index, x, y) of floating point values, normalized to have approximately zero mean and standard deviation ~0.5 to make training easier down the road. \n",
    "\n",
    "A few images might not be readable, we'll just skip them."
   ]
  },
  {
   "cell_type": "code",
   "execution_count": null,
   "metadata": {
    "collapsed": true
   },
   "outputs": [],
   "source": []
  }
 ],
 "metadata": {
  "kernelspec": {
   "display_name": "Python [conda root]",
   "language": "python",
   "name": "conda-root-py"
  },
  "language_info": {
   "codemirror_mode": {
    "name": "ipython",
    "version": 2
   },
   "file_extension": ".py",
   "mimetype": "text/x-python",
   "name": "python",
   "nbconvert_exporter": "python",
   "pygments_lexer": "ipython2",
   "version": "2.7.9"
  }
 },
 "nbformat": 4,
 "nbformat_minor": 2
}
